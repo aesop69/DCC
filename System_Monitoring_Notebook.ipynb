# 🚀 System Monitoring Notebook for Debian Command Center
from google.colab import drive
import sqlite3
import os
import psutil

# 📂 Connect to Google Drive
drive.mount('/content/drive', force_remount=True)

# 📂 Define Database Path
db_path = "/content/drive/MyDrive/DebianCommandCenter/debian_commands.db"

# 🛠️ Check Disk Space
def check_disk_space():
    total, used, free = psutil.disk_usage('/')
    print(f"💾 Disk Space - Total: {total / 1e9:.2f} GB, Used: {used / 1e9:.2f} GB, Free: {free / 1e9:.2f} GB")

# 🔄 Check Database Health
def check_database_health():
    if not os.path.exists(db_path):
        raise FileNotFoundError(f"Database file not found at: {db_path}")
    conn = sqlite3.connect(db_path)
    cursor = conn.cursor()
    cursor.execute("PRAGMA integrity_check")
    result = cursor.fetchone()
    if result[0] == "ok":
        print("✅ Database integrity check passed.")
    else:
        print(f"❌ Database integrity check failed: {result[0]}")
    conn.close()

# 🚀 Run Monitoring Tasks
def run_monitoring():
    check_disk_space()
    check_database_health()
    print("✅ Monitoring completed.")

# 🚀 Start Monitoring Process
run_monitoring()