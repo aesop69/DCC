# 🚀 Automated Testing Notebook for Debian Command Center
from google.colab import drive
import sqlite3
import unittest
import os

# 📂 Connect to Google Drive
drive.mount('/content/drive', force_remount=True)

# 📂 Define Database Path
db_path = "/content/drive/MyDrive/DebianCommandCenter/debian_commands.db"

# 🔄 Connect to Database
def connect_to_db():
    if not os.path.exists(db_path):
        raise FileNotFoundError(f"Database file not found at: {db_path}")
    conn = sqlite3.connect(db_path)
    cursor = conn.cursor()
    print(f"✅ Connected to database at: {db_path}")
    return conn, cursor

# ✅ Unit Test: Schema Validation
class TestSchema(unittest.TestCase):
    def test_schema(self):
        conn, cursor = connect_to_db()
        cursor.execute("PRAGMA table_info(commands)")
        schema = cursor.fetchall()
        expected_columns = ["name", "version", "description", "debports", "manpage_url", "date_created", "last_updated"]
        actual_columns = [col[1] for col in schema]
        for col in expected_columns:
            self.assertIn(col, actual_columns, f"Column '{col}' is missing from the schema.")
        conn.close()

# ✅ Unit Test: Data Insertion
class TestDataInsertion(unittest.TestCase):
    def test_data_insertion(self):
        conn, cursor = connect_to_db()
        test_data = ("test_command", "1.0.0", "Test description", None, None, "2025-01-01 00:00:00", "2025-01-01 00:00:00")
        cursor.execute("DELETE FROM commands WHERE name=?", (test_data[0],))  # Clean up before testing
        cursor.execute("""
            INSERT INTO commands (name, version, description, debports, manpage_url, date_created, last_updated)
            VALUES (?, ?, ?, ?, ?, ?, ?)
        """, test_data)
        conn.commit()
        cursor.execute("SELECT * FROM commands WHERE name=?", (test_data[0],))
        row = cursor.fetchone()
        self.assertIsNotNone(row, "Failed to insert test data.")
        conn.close()

# ✅ Unit Test: Null Values Check
class TestNullValues(unittest.TestCase):
    def test_null_values(self):
        conn, cursor = connect_to_db()
        cursor.execute("SELECT COUNT(*) FROM commands WHERE name IS NULL OR name = ''")
        null_count = cursor.fetchone()[0]
        self.assertEqual(null_count, 0, "Null or empty values found in the 'name' column.")
        conn.close()

# 🚀 Run Tests
if __name__ == "__main__":
    unittest.main(argv=[''], exit=False)