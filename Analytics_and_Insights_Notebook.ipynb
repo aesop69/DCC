# 🚀 Analytics and Insights Notebook for Debian Command Center
from google.colab import drive
import sqlite3
import pandas as pd
import matplotlib.pyplot as plt

# 📂 Connect to Google Drive
drive.mount('/content/drive', force_remount=True)

# 📂 Define Database Path
db_path = "/content/drive/MyDrive/DebianCommandCenter/debian_commands.db"

# 🔄 Connect to Database
def connect_to_db():
    if not os.path.exists(db_path):
        raise FileNotFoundError(f"Database file not found at: {db_path}")
    conn = sqlite3.connect(db_path)
    print(f"✅ Connected to database at: {db_path}")
    return conn

# 📊 Generate Insights
def generate_insights():
    conn = connect_to_db()
    df = pd.read_sql_query("SELECT * FROM commands", conn)
    print(f"📊 Total commands: {len(df)}")
    
    # Most recent updates
    recent_updates = df.sort_values("last_updated", ascending=False).head(5)
    print("📋 Most recently updated commands:")
    print(recent_updates[["name", "last_updated"]])
    
    # Plot data trends
    df["date_created"] = pd.to_datetime(df["date_created"])
    df["year_created"] = df["date_created"].dt.year
    df["year_created"].value_counts().sort_index().plot(kind="bar", title="Commands Added Per Year")
    plt.show()
    
    conn.close()

# 🚀 Run Analytics
generate_insights()