# 🚀 Maintenance Notebook for Debian Command Center
from google.colab import drive
import sqlite3
import os

# 📂 Connect to Google Drive
drive.mount('/content/drive', force_remount=True)

# 📂 Define Database Path
db_path = "/content/drive/MyDrive/DebianCommandCenter/debian_commands.db"

# 🔄 Connect to Database
def connect_to_db():
    if not os.path.exists(db_path):
        raise FileNotFoundError(f"Database file not found at: {db_path}")
    conn = sqlite3.connect(db_path)
    cursor = conn.cursor()
    print(f"✅ Connected to database at: {db_path}")
    return conn, cursor

# 📋 Remove Outdated Data
def remove_outdated_data(cursor, conn, cutoff_date):
    print(f"🔄 Removing rows older than {cutoff_date}...")
    cursor.execute("DELETE FROM commands WHERE date_created < ?", (cutoff_date,))
    conn.commit()
    print(f"✅ Outdated data removed.")

# 📊 Optimize Database
def optimize_database(cursor, conn):
    print("🔄 Optimizing database...")
    cursor.execute("VACUUM")
    print("✅ Database optimized.")

# 🚀 Run Maintenance Tasks
def run_maintenance():
    conn, cursor = connect_to_db()
    remove_outdated_data(cursor, conn, "2024-01-01 00:00:00")
    optimize_database(cursor, conn)
    conn.close()
    print("✅ Maintenance completed.")

# 🚀 Start Maintenance Process
run_maintenance()