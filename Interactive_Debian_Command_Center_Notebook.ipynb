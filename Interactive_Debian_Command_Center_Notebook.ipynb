# 🚀 Interactive Viewer Notebook with Proper Column Handling and Fix for `manpage_url`
from google.colab import drive
import sqlite3
import ipywidgets as widgets
from IPython.display import display, HTML

# 📂 Connect to Google Drive
drive.mount('/content/drive', force_remount=True)

# 📂 Define Database Path
db_path = "/content/drive/MyDrive/DebianCommandCenter/debian_commands.db"

# 🔄 Connect to Database
def connect_to_db():
    conn = sqlite3.connect(db_path)
    cursor = conn.cursor()
    print(f"✅ Connected to database at: {db_path}")
    return conn, cursor

# ✅ Debugging: Check Database and Table Structure
def perform_database_checks(cursor):
    print("🔍 Verifying database and table structure...")

    # Check if the table exists
    cursor.execute("SELECT name FROM sqlite_master WHERE type='table' AND name='commands'")
    table_exists = cursor.fetchone()
    if table_exists:
        print("✅ Table 'commands' exists.")
    else:
        print("❌ Table 'commands' does not exist. Please ensure the scraper created it.")
        return

    # Check the schema of the table
    cursor.execute("PRAGMA table_info(commands)")
    schema = cursor.fetchall()
    print("📋 Table Schema:")
    for column in schema:
        print(f"- {column[1]} ({column[2]})")
    
    # Check the number of rows in the table
    cursor.execute("SELECT COUNT(*) FROM commands")
    row_count = cursor.fetchone()[0]
    print(f"📊 Total rows in 'commands' table: {row_count}")

    # Fetch and display a few sample rows
    cursor.execute("SELECT * FROM commands LIMIT 5")
    rows = cursor.fetchall()
    print("📋 Sample rows in 'commands' table:")
    for row in rows:
        print(row)

# 🔧 Add Column if It Doesn’t Exist
def add_column_if_missing(cursor, conn, column_name, column_type):
    print(f"🛠️ Checking if column '{column_name}' exists...")
    cursor.execute("PRAGMA table_info(commands)")
    columns = [column[1] for column in cursor.fetchall()]
    
    if column_name not in columns:
        print(f"➕ Adding column '{column_name}'...")
        cursor.execute(f"ALTER TABLE commands ADD COLUMN {column_name} {column_type}")
        conn.commit()
        print(f"✅ Column '{column_name}' added successfully.")
    else:
        print(f"✅ Column '{column_name}' already exists.")

# 📌 Fix Missing Data: Populate New Column
def fix_missing_data(cursor, conn):
    print("🔧 Checking for missing `manpage_url` values...")
    cursor.execute("""
        UPDATE commands
        SET manpage_url = 'https://example.com/manpg_placeholder/' || name
        WHERE manpage_url IS NULL OR manpage_url = ''
    """)
    conn.commit()
    print("✅ Missing `manpage_url` values have been fixed.")

# 📌 Pagination with Clickable Names
def view_database_paginated(cursor, page_size=20):
    current_page = [0]

    def display_page(_=None):
        offset = current_page[0] * page_size
        cursor.execute("SELECT * FROM commands LIMIT ? OFFSET ?", (page_size, offset))
        results = cursor.fetchall()

        if not results:
            output.clear_output()
            with output:
                print("❌ No data available to display. Please check the database and table.")
            return

        # Build HTML table
        table_html = """
        <style>
            table { width: 100%; border-collapse: collapse; }
            th, td { border: 1px solid #ddd; padding: 8px; text-align: left; }
            th { background-color: #4CAF50; color: white; }
            tr:nth-child(even) { background-color: #f2f2f2; }
            tr:hover { background-color: #ddd; }
        </style>
        <table>
        <tr><th>Name</th><th>Version</th><th>Description</th><th>Debports</th><th>Manpage URL</th><th>Date Created</th><th>Last Updated</th></tr>
        """
        for row in results:
            # Dynamically handle rows with missing `manpage_url`
            if len(row) == 7:
                name, version, description, debports, manpage_url, date_created, last_updated = row
            else:
                name, version, description, debports, date_created, last_updated = row
                manpage_url = 'N/A'  # Default value if the column is missing

            # Handle clickable names
            name_link = f'<a href="{manpage_url}" target="_blank">{name}</a>' if manpage_url != 'N/A' else name
            table_html += f"<tr><td>{name_link}</td><td>{version}</td><td>{description}</td><td>{debports or 'N/A'}</td><td>{manpage_url}</td><td>{date_created}</td><td>{last_updated}</td></tr>"
        table_html += "</table>"

        output.clear_output()
        with output:
            display(HTML(table_html))
            display(widgets.HBox([home_button, first_button, previous_button, next_button, last_button]))

    # Pagination Buttons
    def next_page(_):
        current_page[0] += 1
        display_page()

    def previous_page(_):
        if current_page[0] > 0:
            current_page[0] -= 1
        display_page()

    def first_page(_):
        current_page[0] = 0
        display_page()

    def last_page(_):
        cursor.execute("SELECT COUNT(*) FROM commands")
        total_entries = cursor.fetchone()[0]
        current_page[0] = (total_entries - 1) // page_size
        display_page()

    def home_page(_):
        current_page[0] = 0
        display_page()

    # Button Definitions
    home_button = widgets.Button(description="🏠 Home", button_style="success")
    first_button = widgets.Button(description="⏮ First", button_style="info")
    previous_button = widgets.Button(description="⬅ Previous", button_style="primary")
    next_button = widgets.Button(description="➡ Next", button_style="primary")
    last_button = widgets.Button(description="⏭ Last", button_style="info")

    home_button.on_click(home_page)
    first_button.on_click(first_page)
    previous_button.on_click(previous_page)
    next_button.on_click(next_page)
    last_button.on_click(last_page)

    # 🎯 GUI Components
    output = widgets.Output()
    display_page()
    display(output)

# 🚀 Start Viewer
conn, cursor = connect_to_db()
perform_database_checks(cursor)
add_column_if_missing(cursor, conn, "manpage_url", "TEXT")  # Add `manpage_url` column if missing
fix_missing_data(cursor, conn)  # Populate missing values for `manpage_url`
view_database_paginated(cursor)