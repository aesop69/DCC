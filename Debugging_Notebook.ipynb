# 🚀 Debugging Notebook for Debian Command Center
from google.colab import drive
import sqlite3
import os
from datetime import datetime

# 📂 Connect to Google Drive
drive.mount('/content/drive', force_remount=True)

# 📂 Define Database Path
db_path = "/content/drive/MyDrive/DebianCommandCenter/debian_commands.db"
expected_columns = [
    ("name", "TEXT"),
    ("version", "TEXT"),
    ("description", "TEXT"),
    ("debports", "TEXT"),
    ("manpage_url", "TEXT"),
    ("date_created", "TEXT"),
    ("last_updated", "TEXT")
]

# 🔄 Connect to Database
def connect_to_db():
    if not os.path.exists(db_path):
        print(f"❌ Database file not found at: {db_path}")
        return None, None
    conn = sqlite3.connect(db_path)
    cursor = conn.cursor()
    print(f"✅ Connected to database at: {db_path}")
    return conn, cursor

# ✅ Check Database Schema
def check_schema(cursor):
    print("🔍 Checking database schema...")
    cursor.execute("PRAGMA table_info(commands)")
    schema = cursor.fetchall()

    # Verify all expected columns exist
    schema_columns = {column[1]: column[2] for column in schema}
    missing_columns = [col for col, col_type in expected_columns if col not in schema_columns]
    extra_columns = [col for col in schema_columns if col not in [col[0] for col in expected_columns]]

    if not missing_columns:
        print("✅ All expected columns are present in the 'commands' table.")
    else:
        print(f"❌ Missing columns: {missing_columns}")

    if extra_columns:
        print(f"⚠️ Extra columns found: {extra_columns}")

    # Verify column types
    for col, col_type in expected_columns:
        if col in schema_columns and schema_columns[col] != col_type:
            print(f"⚠️ Column '{col}' has incorrect type: Expected {col_type}, Found {schema_columns[col]}")

# 📊 Check Data Integrity
def check_data(cursor):
    print("🔍 Checking data integrity...")
    cursor.execute("SELECT COUNT(*) FROM commands")
    row_count = cursor.fetchone()[0]
    print(f"📊 Total rows in 'commands' table: {row_count}")

    # Check for null or missing values in critical columns
    critical_columns = ["name", "version", "description", "date_created", "last_updated"]
    for col in critical_columns:
        cursor.execute(f"SELECT COUNT(*) FROM commands WHERE {col} IS NULL OR {col} = ''")
        null_count = cursor.fetchone()[0]
        if null_count > 0:
            print(f"⚠️ Column '{col}' has {null_count} null or empty values.")

    # Check for null or missing values in `manpage_url`
    cursor.execute("SELECT COUNT(*) FROM commands WHERE manpage_url IS NULL OR manpage_url = ''")
    missing_manpages = cursor.fetchone()[0]
    if missing_manpages > 0:
        print(f"⚠️ Column 'manpage_url' has {missing_manpages} null or empty values.")

# 🔧 Functional Tests
def run_functional_tests(cursor):
    print("🔧 Running functional tests...")

    # Test fetching a sample row
    try:
        cursor.execute("SELECT * FROM commands LIMIT 1")
        sample_row = cursor.fetchone()
        if sample_row:
            print(f"✅ Sample row fetched successfully: {sample_row}")
        else:
            print("⚠️ No rows found in the 'commands' table.")
    except Exception as e:
        print(f"❌ Error fetching sample row: {e}")

    # Test updating a row's manpage_url
    try:
        cursor.execute("SELECT name FROM commands WHERE manpage_url IS NULL OR manpage_url = '' LIMIT 1")
        row_to_update = cursor.fetchone()
        if row_to_update:
            name_to_update = row_to_update[0]
            cursor.execute("""
                UPDATE commands
                SET manpage_url = 'https://example.com/manpg_placeholder/' || name
                WHERE name = ?
            """, (name_to_update,))
            print(f"✅ Successfully updated manpage_url for command: {name_to_update}")
        else:
            print("⚠️ No rows with missing 'manpage_url' found to update.")
    except Exception as e:
        print(f"❌ Error updating manpage_url: {e}")

# 🛠️ Suggest Fixes
def suggest_fixes(cursor):
    print("🛠️ Suggesting fixes for detected issues...")

    # Suggest adding missing columns
    cursor.execute("PRAGMA table_info(commands)")
    schema = cursor.fetchall()
    schema_columns = {column[1]: column[2] for column in schema}
    missing_columns = [col for col, col_type in expected_columns if col not in schema_columns]

    for col, col_type in expected_columns:
        if col in missing_columns:
            print(f"➕ Suggested Fix: Add column '{col}' with type '{col_type}'.")

    # Suggest updating null or empty values in `manpage_url`
    cursor.execute("SELECT COUNT(*) FROM commands WHERE manpage_url IS NULL OR manpage_url = ''")
    missing_manpages = cursor.fetchone()[0]
    if missing_manpages > 0:
        print(f"➕ Suggested Fix: Populate {missing_manpages} rows in 'manpage_url' column with placeholder URLs.")

    # Suggest filling null or empty values in critical columns
    critical_columns = ["name", "version", "description", "date_created", "last_updated"]
    for col in critical_columns:
        cursor.execute(f"SELECT COUNT(*) FROM commands WHERE {col} IS NULL OR {col} = ''")
        null_count = cursor.fetchone()[0]
        if null_count > 0:
            print(f"➕ Suggested Fix: Fill {null_count} rows in '{col}' column with valid values.")

# 🚀 Run All Debugging Steps
def run_debugging():
    conn, cursor = connect_to_db()
    if not conn or not cursor:
        return

    # Step 1: Check schema
    check_schema(cursor)

    # Step 2: Check data integrity
    check_data(cursor)

    # Step 3: Run functional tests
    run_functional_tests(cursor)

    # Step 4: Suggest fixes
    suggest_fixes(cursor)

    conn.close()
    print("✅ Debugging completed.")

# 🚀 Start Debugging Process
run_debugging()