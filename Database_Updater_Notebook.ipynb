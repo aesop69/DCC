# 🚀 Database Updater Notebook for Debian Command Center
from google.colab import drive
import sqlite3
import os
import time
from datetime import datetime

# 📂 Connect to Google Drive
drive.mount('/content/drive', force_remount=True)

# 📂 Define Database Paths
db_path = "/content/drive/MyDrive/DebianCommandCenter/debian_commands.db"
backup_dir = "/content/drive/MyDrive/DebianCommandCenter/Backups"

# 🔄 Connect to Database
def connect_to_db():
    conn = sqlite3.connect(db_path)
    cursor = conn.cursor()
    print(f"✅ Connected to database at: {db_path}")
    return conn, cursor

# 📋 Backup Database
def backup_database():
    if not os.path.exists(backup_dir):
        os.makedirs(backup_dir)
    
    timestamp = datetime.now().strftime('%Y%m%d_%H%M%S')
    backup_path = os.path.join(backup_dir, f"debian_commands_backup_{timestamp}.db")
    with open(db_path, "rb") as original_db:
        with open(backup_path, "wb") as backup_db:
            backup_db.write(original_db.read())
    
    print(f"✅ Backup created at: {backup_path}")

# ✅ Check Database Schema
def check_schema(cursor):
    print("🔍 Checking database schema...")
    cursor.execute("PRAGMA table_info(commands)")
    schema = cursor.fetchall()
    print("📋 Current Table Schema:")
    for column in schema:
        print(f"- {column[1]} ({column[2]})")

# ➕ Add Column to Table
def add_column(cursor, conn, column_name, column_type):
    print(f"🛠️ Adding column '{column_name}'...")
    cursor.execute("PRAGMA table_info(commands)")
    columns = [column[1] for column in cursor.fetchall()]
    
    if column_name not in columns:
        cursor.execute(f"ALTER TABLE commands ADD COLUMN {column_name} {column_type}")
        conn.commit()
        print(f"✅ Column '{column_name}' added successfully.")
    else:
        print(f"⚠️ Column '{column_name}' already exists.")

# 📌 Insert or Update Data
def insert_or_update_data(cursor, conn, data):
    """
    Insert or update data in the 'commands' table.
    `data` should be a list of tuples with the format:
    [
        (name, version, description, debports, manpage_url, date_created, last_updated)
    ]
    """
    print("🔄 Inserting or updating data...")
    for row in data:
        name, version, description, debports, manpage_url, date_created, last_updated = row
        cursor.execute("SELECT name FROM commands WHERE name=?", (name,))
        if cursor.fetchone():
            # Update existing row
            cursor.execute("""
                UPDATE commands
                SET version=?, description=?, debports=?, manpage_url=?, last_updated=?
                WHERE name=?
            """, (version, description, debports, manpage_url, last_updated, name))
            print(f"🔄 Updated: {name}")
        else:
            # Insert new row
            cursor.execute("""
                INSERT INTO commands (name, version, description, debports, manpage_url, date_created, last_updated)
                VALUES (?, ?, ?, ?, ?, ?, ?)
            """, (name, version, description, debports, manpage_url, date_created, last_updated))
            print(f"➕ Inserted: {name}")
    
    conn.commit()
    print("✅ Data insertion and updates completed.")

# 🚀 Run Database Updates
def run_updates():
    conn, cursor = connect_to_db()
    
    # Backup database
    backup_database()

    # Check schema
    check_schema(cursor)
    
    # Example: Add new column if needed
    add_column(cursor, conn, "manpage_url", "TEXT")
    
    # Example: Insert or update data
    sample_data = [
        ("new_command", "1.0.0", "New Debian Command", None, "https://example.com/manpg_placeholder/new_command", 
         datetime.now().strftime('%Y-%m-%d %H:%M:%S'), datetime.now().strftime('%Y-%m-%d %H:%M:%S'))
    ]
    insert_or_update_data(cursor, conn, sample_data)
    
    # Check schema again
    check_schema(cursor)
    
    conn.close()
    print("✅ All updates completed.")

# 🚀 Start Update Process
run_updates()